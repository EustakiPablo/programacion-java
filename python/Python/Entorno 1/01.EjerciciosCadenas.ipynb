{
  "cells": [
    {
      "cell_type": "markdown",
      "metadata": {
        "id": "ltF5kcYE1zUq"
      },
      "source": [
        "Pedir dato a usuario por consola:\n",
        "DNI = input(\"¿Cuál es tu DNI? \")"
      ]
    },
    {
      "cell_type": "code",
      "execution_count": 3,
      "metadata": {
        "colab": {
          "base_uri": "https://localhost:8080/"
        },
        "id": "p3u8sBPI1OeF",
        "outputId": "e4d9761c-e660-43b0-964a-d42ceeb45f91"
      },
      "outputs": [
        {
          "name": "stdout",
          "output_type": "stream",
          "text": [
            "asfdsafg\n"
          ]
        }
      ],
      "source": [
        "DNI=input(\"¿Cuál es tu DNI? \")\n",
        "print(DNI)"
      ]
    },
    {
      "cell_type": "markdown",
      "metadata": {
        "id": "ZuqVneUQ2-up"
      },
      "source": [
        "Ejercicio1\n",
        "\n",
        "Escribir un programa que pregunte el nombre del usuario en la consola y un número entero e imprima por pantalla en líneas distintas el nombre del usuario tantas veces como el número introducido."
      ]
    },
    {
      "cell_type": "code",
      "execution_count": 10,
      "metadata": {
        "id": "yc4UN6hF3K1x"
      },
      "outputs": [
        {
          "name": "stdout",
          "output_type": "stream",
          "text": [
            "Cristian\n",
            "Cristian\n",
            "\n"
          ]
        }
      ],
      "source": [
        "name=input(\"¿Cúal es tu nombre?\")\n",
        "num= input(\"Escribe un número\")\n",
        "print((name+\"\\n\")*int(num))\n"
      ]
    },
    {
      "cell_type": "markdown",
      "metadata": {
        "id": "6lBJ2Uvq3MJr"
      },
      "source": [
        "Ejercicio 2\n",
        "\n",
        "Escribir un programa que pregunte el nombre completo del usuario en la consola y después muestre por pantalla el nombre completo del usuario tres veces, una con todas las letras minúsculas, otra con todas las letras mayúsculas y otra solo con la primera letra del nombre y de los apellidos en mayúscula. El usuario puede introducir su nombre combinando mayúsculas y minúsculas como quiera."
      ]
    },
    {
      "cell_type": "code",
      "execution_count": 16,
      "metadata": {
        "id": "BZ2xWRv03ZKa"
      },
      "outputs": [
        {
          "name": "stdout",
          "output_type": "stream",
          "text": [
            "cristian falcon garcia\n",
            "\n",
            "CRISTIAN FALCON GARCIA\n",
            "\n",
            "Cristian Falcon Garcia\n"
          ]
        }
      ],
      "source": [
        "nombreCompleto=input(\"Escribe tu nombre completo\")\n",
        "print(nombreCompleto.lower()+\"\\n\")\n",
        "print(nombreCompleto.upper()+\"\\n\")\n",
        "print(nombreCompleto.title())"
      ]
    },
    {
      "cell_type": "markdown",
      "metadata": {
        "id": "lzYfMSlB3bU0"
      },
      "source": [
        "Ejercicio 3\n",
        "\n",
        "Escribir un programa que pregunte el nombre del usuario en la consola y después de que el usuario lo introduzca muestre por pantalla *NOMBRE* tiene *n* letras, donde *NOMBRE* es el nombre de usuario en mayúsculas y <n> es el número de letras que tienen el nombre."
      ]
    },
    {
      "cell_type": "code",
      "execution_count": 20,
      "metadata": {
        "id": "oHYfadj63kGg"
      },
      "outputs": [
        {
          "name": "stdout",
          "output_type": "stream",
          "text": [
            "CRISTIAN tiene 8 letras\n"
          ]
        }
      ],
      "source": [
        "name=input(\"¿Cúal es tu nombre?\")\n",
        "print(name.upper()+\" tiene \"+str(len(name))+\" letras\")"
      ]
    },
    {
      "cell_type": "markdown",
      "metadata": {
        "id": "0hfB8BiF3jXo"
      },
      "source": [
        "Ejercicio 4\n",
        "\n",
        "Los teléfonos de una empresa tienen el siguiente formato prefijo-número-extension donde el prefijo es el código del país +34, y la extensión tiene dos dígitos (por ejemplo +34-913724710-56). Escribir un programa que pregunte por un número de teléfono con este formato y muestre por pantalla el número de teléfono sin el prefijo y la extensión."
      ]
    },
    {
      "cell_type": "code",
      "execution_count": 1,
      "metadata": {
        "id": "m-YeZt8W3urR"
      },
      "outputs": [
        {
          "name": "stdout",
          "output_type": "stream",
          "text": [
            "21365478\n"
          ]
        }
      ],
      "source": [
        "tel=input(\"Introduce el teléfono\")\n",
        "print(tel.split(\"-\")[1])"
      ]
    },
    {
      "cell_type": "markdown",
      "metadata": {
        "id": "_zOwRf2y3vFZ"
      },
      "source": [
        "Ejercicio 5\n",
        "\n",
        "Escribir un programa que pida al usuario que introduzca una frase en la consola y muestre por pantalla la frase invertida."
      ]
    },
    {
      "cell_type": "code",
      "execution_count": 23,
      "metadata": {
        "id": "x4cPdiVd31zk"
      },
      "outputs": [
        {
          "name": "stdout",
          "output_type": "stream",
          "text": [
            "odnum aloH\n"
          ]
        }
      ],
      "source": [
        "frase=input(\"Escribe una frase\")\n",
        "print(frase[::-1])"
      ]
    },
    {
      "cell_type": "markdown",
      "metadata": {
        "id": "aSDrX5r432aZ"
      },
      "source": [
        "Ejercicio 6\n",
        "\n",
        "Escribir un programa que pida al usuario que introduzca una frase en la consola y una vocal, y después muestre por pantalla la misma frase pero con la vocal introducida en mayúscula."
      ]
    },
    {
      "cell_type": "code",
      "execution_count": 24,
      "metadata": {
        "id": "QUimcnQT4C2R"
      },
      "outputs": [
        {
          "name": "stdout",
          "output_type": "stream",
          "text": [
            "hOla\n"
          ]
        }
      ],
      "source": [
        "frase = input(\"Introduce una frase\")\n",
        "vocal = input(\"Introduce una vocal\")\n",
        "print(frase.replace(vocal,vocal.upper()))"
      ]
    },
    {
      "cell_type": "markdown",
      "metadata": {
        "id": "4G64a2oC4DPA"
      },
      "source": [
        "Ejercicio 7\n",
        "\n",
        "Escribir un programa que pregunte el correo electrónico del usuario en la consola y muestre por pantalla otro correo electrónico con el mismo nombre (la parte delante de la arroba @) pero con dominio cdm.es."
      ]
    },
    {
      "cell_type": "code",
      "execution_count": 3,
      "metadata": {
        "id": "eaiL8beu4M0P"
      },
      "outputs": [
        {
          "name": "stdout",
          "output_type": "stream",
          "text": [
            "cristian@cdm.es\n"
          ]
        }
      ],
      "source": [
        "correo=input(\"Escribe el correo\")\n",
        "print(correo.split(\"@\")[0]+\"@cdm.es\")"
      ]
    },
    {
      "cell_type": "markdown",
      "metadata": {
        "id": "gatE1wYf4NIe"
      },
      "source": [
        "Ejercicio 8\n",
        "\n",
        "Escribir un programa que pregunte por consola el precio de un producto en euros con dos decimales y muestre por pantalla el número de euros y el número de céntimos del precio introducido."
      ]
    },
    {
      "cell_type": "code",
      "execution_count": 2,
      "metadata": {
        "id": "7dARselN4T-f"
      },
      "outputs": [
        {
          "name": "stdout",
          "output_type": "stream",
          "text": [
            "Son 203€ y 28 céntimos\n"
          ]
        }
      ],
      "source": [
        "precio = input(\"Escribe el precio\")\n",
        "print(\"Son \"+precio.rsplit(\",\")[0]+\"€ y \"+precio.rsplit(\",\")[1]+\" céntimos\")"
      ]
    },
    {
      "cell_type": "markdown",
      "metadata": {
        "id": "NazwsTCg4UNJ"
      },
      "source": [
        "Ejercicio 9\n",
        "\n",
        "Escribir un programa que pregunte al usuario la fecha de su nacimiento en formato dd/mm/aaaa y muestra por pantalla, el día, el mes y el año. Adaptar el programa anterior para que también funcione cuando el día o el mes se introduzcan con un solo carácter."
      ]
    },
    {
      "cell_type": "code",
      "execution_count": 3,
      "metadata": {
        "id": "tMjrJBKI4df5"
      },
      "outputs": [
        {
          "name": "stdout",
          "output_type": "stream",
          "text": [
            "Día 15 mes 02 año 1999\n"
          ]
        }
      ],
      "source": [
        "fecha=input(\"Introduce una fecha\")\n",
        "print(\"Día \"+fecha.rsplit(\"/\")[0]+\" mes \"+ fecha.rsplit(\"/\")[1]+\" año \"+fecha.rsplit(\"/\")[2])"
      ]
    },
    {
      "cell_type": "markdown",
      "metadata": {
        "id": "lWdwzBAJ4d0N"
      },
      "source": [
        "Ejercicio 10\n",
        "\n",
        "Escribir un programa que pregunte por consola por los productos de una cesta de la compra, separados por comas, y muestre por pantalla cada uno de los productos en una línea distinta."
      ]
    },
    {
      "cell_type": "code",
      "execution_count": 4,
      "metadata": {
        "id": "-JCA8fkB4zej"
      },
      "outputs": [
        {
          "name": "stdout",
          "output_type": "stream",
          "text": [
            "huevos\n",
            "\n",
            "leche\n",
            "\n",
            "miel\n",
            "\n"
          ]
        }
      ],
      "source": [
        "lista = input(\"Introduce la lista separada por comas\")\n",
        "x=0\n",
        "while(len(lista.rsplit(\",\"))>x):\n",
        "    print(lista.rsplit(\",\")[x]+\"\\n\")\n",
        "    x=x+1\n"
      ]
    },
    {
      "cell_type": "markdown",
      "metadata": {
        "id": "DkJriULS4zws"
      },
      "source": [
        "Ejercicio 11\n",
        "\n",
        "Escribir un programa que pregunte el nombre el un producto, su precio y un número de unidades y muestre por pantalla una cadena con el nombre del producto seguido de su precio unitario con 6 dígitos enteros y 2 decimales, el número de unidades con tres dígitos y el coste total con 8 dígitos enteros y 2 decimales."
      ]
    },
    {
      "cell_type": "code",
      "execution_count": null,
      "metadata": {
        "id": "FWOoqg8Y47KJ"
      },
      "outputs": [],
      "source": []
    }
  ],
  "metadata": {
    "colab": {
      "collapsed_sections": [],
      "name": "EjerciciosCadenas.ipynb",
      "provenance": [],
      "toc_visible": true
    },
    "kernelspec": {
      "display_name": "Python 3",
      "name": "python3"
    },
    "language_info": {
      "codemirror_mode": {
        "name": "ipython",
        "version": 3
      },
      "file_extension": ".py",
      "mimetype": "text/x-python",
      "name": "python",
      "nbconvert_exporter": "python",
      "pygments_lexer": "ipython3",
      "version": "3.12.1"
    }
  },
  "nbformat": 4,
  "nbformat_minor": 0
}
