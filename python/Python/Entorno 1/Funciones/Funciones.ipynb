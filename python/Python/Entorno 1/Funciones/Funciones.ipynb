{
 "cells": [
  {
   "cell_type": "code",
   "execution_count": 2,
   "metadata": {},
   "outputs": [
    {
     "name": "stdout",
     "output_type": "stream",
     "text": [
      "[1, 7, 3, 9, 2]\n",
      "[1, 2, 3, 7, 9]\n"
     ]
    }
   ],
   "source": [
    "L=[1,7,3,9,2]\n",
    "L2 = sorted (L)\n",
    "#L.sort()\n",
    "print(L)\n",
    "print(L2)"
   ]
  },
  {
   "cell_type": "code",
   "execution_count": 7,
   "metadata": {},
   "outputs": [
    {
     "name": "stdout",
     "output_type": "stream",
     "text": [
      "4\n"
     ]
    }
   ],
   "source": [
    "def suma(num):\n",
    "    \"\"\"\n",
    "    ASOUHASDFHASF\n",
    "    \"\"\"\n",
    "    return num + num\n",
    "\n",
    "print(suma(2))"
   ]
  },
  {
   "cell_type": "code",
   "execution_count": 16,
   "metadata": {},
   "outputs": [
    {
     "name": "stdout",
     "output_type": "stream",
     "text": [
      "Help on function prueba in module __main__:\n",
      "\n",
      "prueba()\n",
      "    Esto es una prueba\n",
      "\n"
     ]
    }
   ],
   "source": [
    "\n",
    "def prueba():\n",
    "    \"\"\"\n",
    "    Esto es una prueba\n",
    "    \"\"\"\n",
    "    print(\"hola\")\n",
    "\n",
    "help(prueba)"
   ]
  }
 ],
 "metadata": {
  "kernelspec": {
   "display_name": "Python 3",
   "language": "python",
   "name": "python3"
  },
  "language_info": {
   "codemirror_mode": {
    "name": "ipython",
    "version": 3
   },
   "file_extension": ".py",
   "mimetype": "text/x-python",
   "name": "python",
   "nbconvert_exporter": "python",
   "pygments_lexer": "ipython3",
   "version": "3.12.1"
  }
 },
 "nbformat": 4,
 "nbformat_minor": 2
}
