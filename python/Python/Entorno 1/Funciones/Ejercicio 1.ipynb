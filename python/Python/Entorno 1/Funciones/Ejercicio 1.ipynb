{
 "cells": [
  {
   "cell_type": "markdown",
   "metadata": {},
   "source": [
    "Crea una función EscribirCentrado, que reciba como parámetro un texto y lo escriba\n",
    "centrado en pantalla (suponiendo una anchura de 80 columnas; pista: deberás escribir 40\n",
    "- longitud/2 espacios antes del texto). Además, subraya el mensaje utilizando el\n",
    "carácter =. \n"
   ]
  },
  {
   "cell_type": "code",
   "execution_count": 12,
   "metadata": {},
   "outputs": [
    {
     "name": "stdout",
     "output_type": "stream",
     "text": [
      "                                     prueba\n",
      "                                     ======\n"
     ]
    }
   ],
   "source": [
    "def centrar(text):\n",
    "    #espacios = 80\n",
    "    for x in range(0,(40-len(text)//2)):\n",
    "        print(\" \",end=\"\")\n",
    "    print(text)\n",
    "    for x in range(0,(40-len(text)//2)):\n",
    "        print(\" \",end=\"\")\n",
    "    for x in range(0,len(text)):\n",
    "        print(\"=\",end=\"\")\n",
    "    print()\n",
    "\n",
    "centrar(\"prueba\")"
   ]
  },
  {
   "cell_type": "markdown",
   "metadata": {},
   "source": [
    "Crea un programa que pida dos números enteros al usuario y diga si alguno de ellos es\n",
    "múltiplo del otro. Crea una función EsMultiplo que reciba los dos números, y devuelve\n",
    "si el primero es múltiplo del segundo. "
   ]
  },
  {
   "cell_type": "code",
   "execution_count": 14,
   "metadata": {},
   "outputs": [
    {
     "name": "stdout",
     "output_type": "stream",
     "text": [
      "No es multiplo\n"
     ]
    }
   ],
   "source": [
    "def esMultiplo(num1,num2):\n",
    "    if num1%num2 == 0:\n",
    "        print(\"Es multiplo\")\n",
    "    else:\n",
    "        print(\"No es multiplo\")\n",
    "esMultiplo(3,2)"
   ]
  },
  {
   "cell_type": "markdown",
   "metadata": {},
   "source": [
    "Crear una función que calcule la temperatura media de un día a partir de la temperatura\n",
    "máxima y mínima. Crear un programa principal que, utilizando la función anterior, vaya\n",
    "pidiendo la temperatura máxima y mínima de cada día y vaya mostrando la media. El\n",
    "programa pedirá el número de días que se van a introducir. \n"
   ]
  },
  {
   "cell_type": "code",
   "execution_count": 16,
   "metadata": {},
   "outputs": [
    {
     "name": "stdout",
     "output_type": "stream",
     "text": [
      "La temperatura minima no puede ser mayor a la máxima.\n",
      "17\n",
      "18\n"
     ]
    }
   ],
   "source": [
    "def tempMedia(max,min):\n",
    "    return (max+min)//2\n",
    "\n",
    "rep = int(input(\"Introduce el número de días que quieres comprobar\"))\n",
    "\n",
    "for x in range(0,rep):\n",
    "    g = int(input(\"Introduce la temperatura máxima\"))\n",
    "    p = int(input(\"Introduce la temperatura minima\"))\n",
    "    while p>g:\n",
    "        print(\"La temperatura minima no puede ser mayor a la máxima.\")\n",
    "        g = int(input(\"Introduce la temperatura máxima\"))\n",
    "        p = int(input(\"Introduce la temperatura minima\"))\n",
    "    print(tempMedia(g,p))\n"
   ]
  },
  {
   "cell_type": "markdown",
   "metadata": {},
   "source": [
    "Crea una función “ConvertirEspaciado”, que reciba como parámetro un texto y\n",
    "devuelva una cadena con un espacio adicional tras cada letra. Por ejemplo, “Hola, tú”\n",
    "devolverá “H o l a , t ú “. Crea un programa principal donde se use dicha función. \n"
   ]
  },
  {
   "cell_type": "code",
   "execution_count": 18,
   "metadata": {},
   "outputs": [
    {
     "name": "stdout",
     "output_type": "stream",
     "text": [
      "h o l a   b u e n a s   t a r d e s \n"
     ]
    }
   ],
   "source": [
    "def espaciado(text):\n",
    "    for x in range(0,len(text)):\n",
    "        print(text[x]+\" \",end=\"\")\n",
    "    print()\n",
    "\n",
    "espaciado(\"hola buenas tardes\")"
   ]
  },
  {
   "cell_type": "markdown",
   "metadata": {},
   "source": [
    "Crea una función “calcularMaxMin” que recibe una lista con valores numéricos y\n",
    "devuelve el valor máximo y el mínimo. Crea un programa que pida números por teclado\n",
    "y muestre el máximo y el mínimo, utilizando la función anterior. \n"
   ]
  },
  {
   "cell_type": "code",
   "execution_count": 22,
   "metadata": {},
   "outputs": [
    {
     "name": "stdout",
     "output_type": "stream",
     "text": [
      "9 1\n"
     ]
    }
   ],
   "source": [
    "def calcularMaxMin(*lista):\n",
    "    max = -9999999\n",
    "    min = 99999999\n",
    "    for x in lista:\n",
    "        if max < x:\n",
    "            max = x\n",
    "        if min > x:\n",
    "            min = x\n",
    "    print(max,min)\n",
    "\n",
    "calcularMaxMin(5,7,9,3,1,8,7,3,9,2,5)"
   ]
  },
  {
   "cell_type": "markdown",
   "metadata": {},
   "source": [
    "Diseñar una función que calcule el área y el perímetro de una circunferencia. Utiliza\n",
    "dicha función en un programa principal que lea el radio de una circunferencia y muestre\n",
    "su área y perímetro. "
   ]
  },
  {
   "cell_type": "code",
   "execution_count": 2,
   "metadata": {},
   "outputs": [
    {
     "name": "stdout",
     "output_type": "stream",
     "text": [
      "Área: 78.53981633974483\n",
      "Perímetro: 31.41592653589793\n"
     ]
    }
   ],
   "source": [
    "import math\n",
    "def calcAreaPerim(radio):\n",
    "    print(\"Área:\",math.pi*(radio*radio))\n",
    "    print(\"Perímetro:\",2*math.pi*radio)\n",
    "\n",
    "calcAreaPerim(float(input(\"Introduce el rádio\")))"
   ]
  },
  {
   "cell_type": "markdown",
   "metadata": {},
   "source": [
    "Crear una subrutina llamada “Login”, que recibe un nombre de usuario y una contraseña\n",
    "y te devuelve Verdadero si el nombre de usuario es “usuario1” y la contraseña es\n",
    "“asdasd”. Además, recibe el número de intentos que se ha intentado hacer login y si no\n",
    "se ha podido hacer login incremente este valor. \n"
   ]
  },
  {
   "cell_type": "code",
   "execution_count": 1,
   "metadata": {},
   "outputs": [
    {
     "name": "stdout",
     "output_type": "stream",
     "text": [
      "Contraseña incorrecta\n",
      "Contraseña incorrecta\n",
      "Inicio de sesión con éxito\n",
      "Has hecho 3 intentos\n"
     ]
    }
   ],
   "source": [
    "def login(user,passw):\n",
    "    intentos = 1\n",
    "    salgo = True\n",
    "    inicio = False\n",
    "    if(user == \"usuario1\"):\n",
    "            if(passw == \"asdasd\"):\n",
    "                salgo=False\n",
    "    while(salgo and intentos!=3):\n",
    "        print(\"Contraseña incorrecta\")\n",
    "        user = input(\"Introduce el nombre de usuario\")\n",
    "        passw = input(\"Introduce la contraseña\")\n",
    "        if(user == \"usuario1\"):\n",
    "            if(passw == \"asdasd\"):\n",
    "                salgo=False\n",
    "                inicio = True\n",
    "        intentos += 1\n",
    "        if(inicio):\n",
    "            print(\"Inicio de sesión con éxito\")\n",
    "        else:\n",
    "             print(\"No has iniciado sesión\")\n",
    "    print(\"Has hecho\",intentos,\"intentos\")\n",
    "login(input(\"Introduce el nombre de usuario\"),input(\"Introduce la contraseña\"))"
   ]
  },
  {
   "cell_type": "markdown",
   "metadata": {},
   "source": [
    "Crear una función recursiva que permita calcular el factorial de un número. Realiza un\n",
    "programa principal donde se lea un entero y se muestre el resultado del factorial. "
   ]
  },
  {
   "cell_type": "code",
   "execution_count": 3,
   "metadata": {},
   "outputs": [
    {
     "name": "stdout",
     "output_type": "stream",
     "text": [
      "Factorial: 120\n"
     ]
    }
   ],
   "source": [
    "def facto(num):\n",
    "    num2 = num\n",
    "    final = 1\n",
    "    while num2!=1:\n",
    "        final *= num2\n",
    "        num2-=1\n",
    "    return final\n",
    "print(\"Factorial:\", facto(5))"
   ]
  },
  {
   "cell_type": "markdown",
   "metadata": {},
   "source": [
    "Crear una función que calcule el MCD de dos números por el método de Euclides. El\n",
    "método de Euclides es el siguiente:\n",
    " Se divide el número mayor entre el menor.\n",
    " Si la división es exacta, el divisor es el MCD.\n",
    " Si la división no es exacta, dividimos el divisor entre el resto obtenido y se\n",
    "continúa de esta forma hasta obtener una división exacta, siendo el último\n",
    "divisor el MCD.\n",
    "Crea un programa principal que lea dos números enteros y muestre el MCD. "
   ]
  },
  {
   "cell_type": "code",
   "execution_count": 9,
   "metadata": {},
   "outputs": [
    {
     "name": "stdout",
     "output_type": "stream",
     "text": [
      "El máximo común divisor: 1\n"
     ]
    }
   ],
   "source": [
    "def maxComDiv(num1,num2):\n",
    "    mayor=0\n",
    "    menor=0\n",
    "    if num1>num2:\n",
    "        mayor = num1\n",
    "        menor = num2\n",
    "    else:\n",
    "        mayor = num2\n",
    "        menor = num1\n",
    "    while mayor%menor != 0:\n",
    "        menor-=1\n",
    "    print(\"El máximo común divisor:\",str(menor))\n",
    "maxComDiv(25,2)"
   ]
  },
  {
   "cell_type": "markdown",
   "metadata": {},
   "source": [
    "Escribir dos funciones que permitan calcular:\n",
    " La cantidad de segundos en un tiempo dado en horas, minutos y segundos.\n",
    " La cantidad de horas, minutos y segundos de un tiempo dado en segundos.\n",
    "Escribe un programa principal con un menú donde se pueda elegir la opción de\n",
    "convertir a segundos, convertir a horas, minutos y segundos o salir del programa"
   ]
  },
  {
   "cell_type": "code",
   "execution_count": null,
   "metadata": {},
   "outputs": [],
   "source": []
  }
 ],
 "metadata": {
  "kernelspec": {
   "display_name": "Python 3",
   "language": "python",
   "name": "python3"
  },
  "language_info": {
   "codemirror_mode": {
    "name": "ipython",
    "version": 3
   },
   "file_extension": ".py",
   "mimetype": "text/x-python",
   "name": "python",
   "nbconvert_exporter": "python",
   "pygments_lexer": "ipython3",
   "version": "3.12.1"
  }
 },
 "nbformat": 4,
 "nbformat_minor": 2
}
