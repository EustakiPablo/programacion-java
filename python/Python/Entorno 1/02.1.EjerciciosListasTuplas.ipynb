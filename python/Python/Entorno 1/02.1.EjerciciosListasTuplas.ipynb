{
  "cells": [
    {
      "cell_type": "markdown",
      "metadata": {
        "id": "bY5RQXE39ZGQ"
      },
      "source": [
        "1. Genera la lista L cuyos elementos son: \"apple\", \"banana\", \"cherry\", \"apple\", \"cherry\". Imprime la longitud de la lista"
      ]
    },
    {
      "cell_type": "code",
      "execution_count": 32,
      "metadata": {
        "id": "wh1RUhEv8yM9"
      },
      "outputs": [
        {
          "name": "stdout",
          "output_type": "stream",
          "text": [
            "5\n"
          ]
        }
      ],
      "source": [
        "L = [\"apple\",\"banana\",\"cherry\",\"apple\",\"cherry\"]\n",
        "print(len(L))"
      ]
    },
    {
      "cell_type": "markdown",
      "metadata": {
        "id": "-2gas5c892Ed"
      },
      "source": [
        "2. Imprime el segundo elemento de la lista"
      ]
    },
    {
      "cell_type": "code",
      "execution_count": 33,
      "metadata": {
        "id": "G_-GmPAC-H8F"
      },
      "outputs": [
        {
          "name": "stdout",
          "output_type": "stream",
          "text": [
            "banana\n"
          ]
        }
      ],
      "source": [
        "print(L[1])"
      ]
    },
    {
      "cell_type": "markdown",
      "metadata": {
        "id": "2y7QuKuH-IUB"
      },
      "source": [
        "3. Imprime los tres últimos elementos"
      ]
    },
    {
      "cell_type": "code",
      "execution_count": 34,
      "metadata": {
        "id": "GPcDrCDB-aQi"
      },
      "outputs": [
        {
          "name": "stdout",
          "output_type": "stream",
          "text": [
            "['cherry', 'apple', 'cherry']\n"
          ]
        }
      ],
      "source": [
        "print(L[2:5])\n"
      ]
    },
    {
      "cell_type": "markdown",
      "metadata": {
        "id": "59j8WQyQ-as9"
      },
      "source": [
        "4. Imprime los elementos desde el segundo hasta el último"
      ]
    },
    {
      "cell_type": "code",
      "execution_count": 35,
      "metadata": {
        "id": "uFzFp3rN-luv"
      },
      "outputs": [
        {
          "name": "stdout",
          "output_type": "stream",
          "text": [
            "['banana', 'cherry', 'apple', 'cherry']\n"
          ]
        }
      ],
      "source": [
        "print(L[1:])"
      ]
    },
    {
      "cell_type": "markdown",
      "metadata": {
        "id": "CuP3mp9I-mEF"
      },
      "source": [
        "5. Cambia los valores \"banana\" and \"cherry\" por los valores\"blackcurrant\" y \"watermelon\", respectivamente"
      ]
    },
    {
      "cell_type": "code",
      "execution_count": 36,
      "metadata": {
        "id": "s1-MyWeH-4Q6"
      },
      "outputs": [
        {
          "name": "stdout",
          "output_type": "stream",
          "text": [
            "['apple', 'blackcurrant', 'watermelon', 'apple', 'cherry']\n"
          ]
        }
      ],
      "source": [
        "L[1] = \"blackcurrant\"\n",
        "L[2] = \"watermelon\"\n",
        "print(L)"
      ]
    },
    {
      "cell_type": "markdown",
      "metadata": {
        "id": "Kvt1hHfC-4uO"
      },
      "source": [
        "6. Cambia el segundo elemento de la lista reemplazándolo por dos valores nuevos: \"blackcurrant\" y \"watermelon\""
      ]
    },
    {
      "cell_type": "code",
      "execution_count": 37,
      "metadata": {
        "id": "EwZ_1s99CCce"
      },
      "outputs": [
        {
          "name": "stdout",
          "output_type": "stream",
          "text": [
            "['apple', 'watermelon', 'blackcurrant', 'blackcurrant', 'watermelon', 'apple', 'cherry']\n"
          ]
        }
      ],
      "source": [
        "L.insert(1,\"blackcurrant\")\n",
        "L.insert(1,\"watermelon\")\n",
        "print(L)"
      ]
    },
    {
      "cell_type": "markdown",
      "metadata": {
        "id": "RlarzijXCCym"
      },
      "source": [
        "7. Añade los elementos de la tupla (\"kiwi\", \"orange\") a los elementos de la lista [\"apple\", \"banana\", \"cherry\"]"
      ]
    },
    {
      "cell_type": "code",
      "execution_count": 38,
      "metadata": {
        "id": "fCJz1KyuCp3e"
      },
      "outputs": [
        {
          "name": "stdout",
          "output_type": "stream",
          "text": [
            "['apple', 'banana', 'cherry', 'kiwi', 'orange']\n"
          ]
        }
      ],
      "source": [
        "tupla = (\"kiwi\",\"orange\")\n",
        "L2 = [\"apple\",\"banana\",\"cherry\"]\n",
        "L2.extend(tupla)\n",
        "print(L2)"
      ]
    },
    {
      "cell_type": "markdown",
      "metadata": {
        "id": "Fy1bnFIkCqVs"
      },
      "source": [
        "8. Ordena la lista en orden inverso (Pista: utiliza el método ***sort*** y ***reverse=True***)"
      ]
    },
    {
      "cell_type": "code",
      "execution_count": 39,
      "metadata": {
        "id": "FuyUH-_4DSPA"
      },
      "outputs": [
        {
          "name": "stdout",
          "output_type": "stream",
          "text": [
            "['orange', 'kiwi', 'cherry', 'banana', 'apple']\n"
          ]
        }
      ],
      "source": [
        "L2.sort(reverse=True)\n",
        "print(L2)"
      ]
    },
    {
      "cell_type": "markdown",
      "metadata": {
        "id": "5WjsYHRTDShO"
      },
      "source": []
    }
  ],
  "metadata": {
    "colab": {
      "name": "EjerciciosListas&Tuplas.ipynb",
      "provenance": [],
      "toc_visible": true
    },
    "kernelspec": {
      "display_name": "Python 3",
      "name": "python3"
    },
    "language_info": {
      "codemirror_mode": {
        "name": "ipython",
        "version": 3
      },
      "file_extension": ".py",
      "mimetype": "text/x-python",
      "name": "python",
      "nbconvert_exporter": "python",
      "pygments_lexer": "ipython3",
      "version": "3.12.1"
    }
  },
  "nbformat": 4,
  "nbformat_minor": 0
}
