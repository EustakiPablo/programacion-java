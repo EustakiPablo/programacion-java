{
 "cells": [
  {
   "cell_type": "markdown",
   "metadata": {},
   "source": [
    "Escribe un programa que permita al usuario registrar\n",
    "estudiantes y sus calificaciones en varias asignaturas. El programa debe solicitar\n",
    "el nombre del estudiante y luego pedir las calificaciones para cada asignatura.\n",
    "Después de ingresar las calificaciones para todos los estudiantes, el programa\n",
    "debe imprimir un resumen de las calificaciones de cada estudiante."
   ]
  },
  {
   "cell_type": "code",
   "execution_count": 1,
   "metadata": {},
   "outputs": [
    {
     "name": "stdout",
     "output_type": "stream",
     "text": [
      "{'Cristian': '5, 6, 7, 8, 4, ', 'Arturo': '5, 6, 7, 8, 4, 7, 6, 4, 3, 2, ', 'Raul': '5, 6, 7, 8, 4, 7, 6, 4, 3, 2, 9, 5, 3, 8, '}\n",
      "Saliendo del programa...\n"
     ]
    }
   ],
   "source": [
    "continuar = True\n",
    "dic = {}\n",
    "notasFinal = \"\"\n",
    "while(continuar):\n",
    "    elegir = input(\"Introduce 1- para añadir estudiante\\nIntroduce 2- para salir.\")\n",
    "    if(elegir==\"1\"):\n",
    "        nombre = input(\"Introduce el nombre.\")\n",
    "        contNot = True\n",
    "        while(contNot):\n",
    "            nota = input(\"Introduce una nota, para salir introduce un *\")\n",
    "            if nota == \"*\":\n",
    "                contNot=False\n",
    "            else:\n",
    "                notasFinal += nota+\", \"\n",
    "        dic.update({nombre:notasFinal})\n",
    "    elif(elegir==\"2\"):\n",
    "        print(dic)\n",
    "        print(\"Saliendo del programa...\")\n",
    "        continuar = False\n",
    "    else:\n",
    "        print(\"No es una opción válida\")"
   ]
  },
  {
   "cell_type": "markdown",
   "metadata": {},
   "source": [
    "Escribe un programa que simule el control\n",
    "de inventario de una tienda. El programa debe permitir al usuario agregar\n",
    "productos al inventario, actualizar la cantidad de existencias de un producto y\n",
    "eliminar productos del inventario. Además, el programa debe permitir al\n",
    "usuario buscar un producto por su nombre y mostrar su cantidad de\n",
    "existencias."
   ]
  },
  {
   "cell_type": "code",
   "execution_count": null,
   "metadata": {},
   "outputs": [],
   "source": []
  },
  {
   "cell_type": "markdown",
   "metadata": {},
   "source": [
    "Crea un programa que permita al usuario gestionar una lista\n",
    "de tareas pendientes. El programa debe ofrecer opciones para agregar nuevas\n",
    "tareas, marcar tareas como completadas, eliminar tareas y mostrar todas las\n",
    "tareas pendientes"
   ]
  },
  {
   "cell_type": "code",
   "execution_count": 5,
   "metadata": {},
   "outputs": [
    {
     "name": "stdout",
     "output_type": "stream",
     "text": [
      "Barrer, Fregar, Polvo, Lavadora, \n",
      "Barrer, Fregar, Lavadora, \n",
      "Barrer, Fregar, \n",
      "Barrer, Fregar, \n",
      "No es una opción válida.\n",
      "No es una opción válida.\n",
      "Saliendo del programa...\n"
     ]
    }
   ],
   "source": [
    "dic={}\n",
    "salir = True\n",
    "while(salir):\n",
    "    eleccion = input(\"Introduce:\\n1- para añadir tareas pendientes\\n2- para marcar tareas como completadas\\n3- Eliminar tareas\\n4- mostrar tareas pendientes\\n5- salir del programa\")\n",
    "    if eleccion==\"1\":\n",
    "        tarea = input(\"Introduce la tarea pendiente.\")\n",
    "        dic.update({tarea:\"pendiente\"})\n",
    "    elif eleccion==\"2\":\n",
    "        tarea = input(\"Introduce la tarea completada\")\n",
    "        if tarea not in dic:\n",
    "            print(\"La tarea no se encuentra dentro de la lista de tareas\")\n",
    "        else:\n",
    "            dic[tarea] = \"completado\"\n",
    "    elif eleccion==\"3\":\n",
    "        tarea = input(\"Introduce la tarea que quieras eliminar\")\n",
    "        if(tarea not in dic):\n",
    "            print(\"La tarea no está en la lista\")\n",
    "        else:\n",
    "            dic.pop(tarea)\n",
    "    elif eleccion ==\"4\":\n",
    "        for x,y in dic.items():\n",
    "            if y == \"pendiente\":\n",
    "                print(x+\", \",end=\"\")\n",
    "        print()\n",
    "    elif eleccion==\"5\":\n",
    "        print(\"Saliendo del programa...\")\n",
    "        salir = False\n",
    "    else:\n",
    "        print(\"No es una opción válida.\")"
   ]
  }
 ],
 "metadata": {
  "kernelspec": {
   "display_name": "Python 3",
   "language": "python",
   "name": "python3"
  },
  "language_info": {
   "codemirror_mode": {
    "name": "ipython",
    "version": 3
   },
   "file_extension": ".py",
   "mimetype": "text/x-python",
   "name": "python",
   "nbconvert_exporter": "python",
   "pygments_lexer": "ipython3",
   "version": "3.12.1"
  }
 },
 "nbformat": 4,
 "nbformat_minor": 2
}
