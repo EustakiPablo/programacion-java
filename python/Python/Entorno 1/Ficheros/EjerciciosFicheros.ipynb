{
 "cells": [
  {
   "cell_type": "markdown",
   "metadata": {},
   "source": [
    "Abre el fichero Usuarios.txt. Genera por cada usuario de la lista un correo electrónico con el dominio cdm.org y guarda el listado de correos en otro fichero llamado Correos.txt"
   ]
  },
  {
   "cell_type": "code",
   "execution_count": 2,
   "metadata": {},
   "outputs": [],
   "source": [
    "def recogerNombres():\n",
    "    with open(\"archivos/usuarios.txt\",\"r\") as usuarios:\n",
    "        cadenaDeNombres = []\n",
    "        for x in usuarios:\n",
    "            cadenaDeNombres.append(x[0:len(x)-1])\n",
    "        return cadenaDeNombres\n",
    "\n",
    "def colocarDominio():\n",
    "    usr = recogerNombres()\n",
    "    correosCompletos = \"\"\n",
    "    for x in usr:\n",
    "        correosCompletos+=x+\"@cdmfp.es\\n\"\n",
    "    return correosCompletos\n",
    "\n",
    "def escribirArchivo():\n",
    "    cadenaCompleta = colocarDominio()\n",
    "    with open(\"archivos/usuariosConCorreo.txt\",\"w\") as archivo:\n",
    "        archivo.write(cadenaCompleta)\n",
    "\n",
    "def __main__():\n",
    "    escribirArchivo()\n",
    "__main__()"
   ]
  },
  {
   "cell_type": "markdown",
   "metadata": {},
   "source": [
    "Descripción: Abre el fichero Productos.txt, que contiene una lista de productos con su precio en cada línea en el formato Producto:Precio. Genera un listado de los productos cuyo precio sea superior a 50 y guarda este listado en un fichero llamado ProductosCaros.txt."
   ]
  },
  {
   "cell_type": "code",
   "execution_count": 21,
   "metadata": {},
   "outputs": [
    {
     "name": "stdout",
     "output_type": "stream",
     "text": [
      "['Producto1:200', 'Producto2:10', 'Producto3:300', 'Producto4:5', 'Producto5:7']\n",
      "['Producto1:200', 'Producto2:10', 'Producto3:300', 'Producto4:5', 'Producto5:7']\n"
     ]
    }
   ],
   "source": [
    "def recogerProductos():\n",
    "    with open(\"archivos/productos.txt\",\"r\") as productos:\n",
    "        cadenaDeNombres = []\n",
    "        for x in productos:\n",
    "            cadenaDeNombres.append(x[0:len(x)-1])\n",
    "        return cadenaDeNombres\n",
    "\n",
    "def crearString():\n",
    "    cadenaProductos = \"\"\n",
    "    lista = recogerProductos()\n",
    "    for x in lista:\n",
    "        x=x.split(\":\")\n",
    "        if float(x[1]) > 50:\n",
    "            cadenaProductos+=x[0]+\" \"+x[1]+\"\\n\"\n",
    "    return cadenaProductos\n",
    "\n",
    "def crearArchivo():\n",
    "    escribir = crearString()\n",
    "    with open(\"archivos/productosCaros.txt\",\"w\") as productos:\n",
    "        productos.write(escribir)\n",
    "\n",
    "def __main__():\n",
    "    crearArchivo()\n",
    "__main__()"
   ]
  },
  {
   "cell_type": "markdown",
   "metadata": {},
   "source": [
    "Descripción: Abre el fichero Estudiantes.txt, que contiene una lista de nombres de estudiantes y sus calificaciones en cada línea en el formato Nombre:Calificacion. Genera un archivo EstudiantesAprobados.txt que contenga solo los nombres de los estudiantes que aprobaron (nota mayor o igual a 5)."
   ]
  },
  {
   "cell_type": "code",
   "execution_count": null,
   "metadata": {},
   "outputs": [],
   "source": []
  },
  {
   "cell_type": "markdown",
   "metadata": {},
   "source": [
    "Descripción: Abre el fichero Libros.txt, que contiene una lista de libros con su año de publicación en cada línea en el formato Titulo:Año. Genera un archivo LibrosAntiguos.txt que contenga solo los títulos de los libros publicados antes del año 2000."
   ]
  },
  {
   "cell_type": "code",
   "execution_count": null,
   "metadata": {},
   "outputs": [],
   "source": []
  },
  {
   "cell_type": "markdown",
   "metadata": {},
   "source": [
    "Descripción: Abre el fichero Empleados.txt, que contiene una lista de empleados con su departamento en cada línea en el formato Nombre:Departamento. Genera un archivo EmpleadosVentas.txt que contenga solo los nombres de los empleados que trabajan en el departamento de \"Ventas\"."
   ]
  },
  {
   "cell_type": "code",
   "execution_count": null,
   "metadata": {},
   "outputs": [],
   "source": []
  },
  {
   "cell_type": "markdown",
   "metadata": {},
   "source": [
    "Descripción: Abre el fichero Inventario.txt, que contiene una lista de productos con su cantidad en cada línea en el formato Producto:Cantidad. Genera un archivo InventarioBajo.txt que contenga solo los nombres de los productos con una cantidad inferior a 10."
   ]
  },
  {
   "cell_type": "code",
   "execution_count": null,
   "metadata": {},
   "outputs": [],
   "source": []
  }
 ],
 "metadata": {
  "kernelspec": {
   "display_name": "Python 3",
   "language": "python",
   "name": "python3"
  },
  "language_info": {
   "codemirror_mode": {
    "name": "ipython",
    "version": 3
   },
   "file_extension": ".py",
   "mimetype": "text/x-python",
   "name": "python",
   "nbconvert_exporter": "python",
   "pygments_lexer": "ipython3",
   "version": "3.12.1"
  }
 },
 "nbformat": 4,
 "nbformat_minor": 2
}
