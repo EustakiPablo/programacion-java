{
 "cells": [
  {
   "cell_type": "code",
   "execution_count": 19,
   "metadata": {},
   "outputs": [],
   "source": [
    "def recogerNombres():\n",
    "    with open(\"usuarios.txt\",\"r\") as usuarios:\n",
    "        cadenaDeNombres = []\n",
    "        for x in usuarios:\n",
    "            cadenaDeNombres.append(x[0:len(x)-1])\n",
    "        return cadenaDeNombres\n",
    "\n",
    "def colocarDominio():\n",
    "    usr = recogerNombres()\n",
    "    correosCompletos = \"\"\n",
    "    for x in usr:\n",
    "        correosCompletos+=x+\"@cdmfp.es\\n\"\n",
    "    return correosCompletos\n",
    "\n",
    "def escribirArchivo():\n",
    "    cadenaCompleta = colocarDominio()\n",
    "    with open(\"usuariosConCorreo.txt\",\"w\") as archivo:\n",
    "        archivo.write(cadenaCompleta)\n",
    "\n",
    "def __main__():\n",
    "    escribirArchivo()\n",
    "__main__()"
   ]
  }
 ],
 "metadata": {
  "kernelspec": {
   "display_name": "Python 3",
   "language": "python",
   "name": "python3"
  },
  "language_info": {
   "codemirror_mode": {
    "name": "ipython",
    "version": 3
   },
   "file_extension": ".py",
   "mimetype": "text/x-python",
   "name": "python",
   "nbconvert_exporter": "python",
   "pygments_lexer": "ipython3",
   "version": "3.12.1"
  }
 },
 "nbformat": 4,
 "nbformat_minor": 2
}
