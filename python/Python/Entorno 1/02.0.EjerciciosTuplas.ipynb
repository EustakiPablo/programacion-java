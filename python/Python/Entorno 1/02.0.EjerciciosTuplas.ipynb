{
 "cells": [
  {
   "cell_type": "markdown",
   "metadata": {},
   "source": [
    "Genera una tupla cuyos elementos sean: \"Patricia\",\"Anuska\",\"María\",\"Keko\",\"Mónica\". Imprime la longitud de la tupla"
   ]
  },
  {
   "cell_type": "code",
   "execution_count": 1,
   "metadata": {},
   "outputs": [
    {
     "name": "stdout",
     "output_type": "stream",
     "text": [
      "5\n"
     ]
    }
   ],
   "source": [
    "tupla=(\"Patricia\",\"Anuska\",\"María\",\"Keko\",\"Mónica\")\n",
    "print(len(tupla))"
   ]
  },
  {
   "cell_type": "markdown",
   "metadata": {},
   "source": [
    "Imprime el segundo elemento de la tupla"
   ]
  },
  {
   "cell_type": "code",
   "execution_count": 2,
   "metadata": {},
   "outputs": [
    {
     "name": "stdout",
     "output_type": "stream",
     "text": [
      "Anuska\n"
     ]
    }
   ],
   "source": [
    "print(tupla[1])"
   ]
  },
  {
   "cell_type": "markdown",
   "metadata": {},
   "source": [
    "Imprime la lista en orden inverso"
   ]
  },
  {
   "cell_type": "code",
   "execution_count": 5,
   "metadata": {},
   "outputs": [
    {
     "name": "stdout",
     "output_type": "stream",
     "text": [
      "('Mónica', 'Keko', 'María', 'Anuska', 'Patricia')\n"
     ]
    }
   ],
   "source": [
    "print(tupla[-1::-1])"
   ]
  },
  {
   "cell_type": "markdown",
   "metadata": {},
   "source": [
    "Crea otra tupla con los elementos: \"Marta\",\"David\" y crea una nueva tupla que contenga estos elementos seguidos de los elementos de la tupla del primer ejercicio"
   ]
  },
  {
   "cell_type": "code",
   "execution_count": 6,
   "metadata": {},
   "outputs": [
    {
     "name": "stdout",
     "output_type": "stream",
     "text": [
      "('Patricia', 'Anuska', 'María', 'Keko', 'Mónica', 'Marta', 'David')\n"
     ]
    }
   ],
   "source": [
    "tupla2=(\"Marta\",\"David\")\n",
    "tupla3=tupla+tupla2\n",
    "print(tupla3)"
   ]
  }
 ],
 "metadata": {
  "kernelspec": {
   "display_name": "Python 3",
   "language": "python",
   "name": "python3"
  },
  "language_info": {
   "codemirror_mode": {
    "name": "ipython",
    "version": 3
   },
   "file_extension": ".py",
   "mimetype": "text/x-python",
   "name": "python",
   "nbconvert_exporter": "python",
   "pygments_lexer": "ipython3",
   "version": "3.12.1"
  }
 },
 "nbformat": 4,
 "nbformat_minor": 2
}
