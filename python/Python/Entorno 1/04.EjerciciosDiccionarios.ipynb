{
 "cells": [
  {
   "cell_type": "markdown",
   "metadata": {},
   "source": [
    "Escribir un programa que pregunte al usuario su nombre, edad, dirección y teléfono y lo guarde en un diccionario. Después debe mostrar por pantalla el mensaje <nombre> tiene <edad> años, vive en <dirección> y su número de teléfono es <teléfono>."
   ]
  },
  {
   "cell_type": "code",
   "execution_count": 1,
   "metadata": {},
   "outputs": [
    {
     "data": {
      "text/plain": [
       "{'Nombre': 'Cristian', 'Edad': '22', 'Direccion': 'si', 'Telefono': '1231244'}"
      ]
     },
     "execution_count": 1,
     "metadata": {},
     "output_type": "execute_result"
    }
   ],
   "source": [
    "nombre=input(\"Introduce el nombre\")\n",
    "edad=input(\"Introduce tu edad\")\n",
    "direccion=input(\"Introduce tu direccion\")\n",
    "telefono=input(\"introduce tu telefono\")\n",
    "Dic1={\"Nombre\":nombre,\"Edad\":edad,\"Direccion\":direccion,\"Telefono\":telefono}\n",
    "Dic1"
   ]
  },
  {
   "cell_type": "markdown",
   "metadata": {},
   "source": [
    "Escribir un programa que guarde en un diccionario los precios de las frutas de la tabla, pregunte al usuario por una fruta, un número de kilos y muestre por pantalla el precio de ese número de kilos de fruta. Si la fruta no está en el diccionario debe mostrar un mensaje informando de ello."
   ]
  },
  {
   "cell_type": "code",
   "execution_count": 5,
   "metadata": {},
   "outputs": [
    {
     "name": "stdout",
     "output_type": "stream",
     "text": [
      "No esta esa fruta\n"
     ]
    }
   ],
   "source": [
    "frutas = {\"Manzana\":2,\"Platano\":3,\"Pera\":5}\n",
    "userF = input(\"Introduce una fruta\").title()\n",
    "kilos = int(input(\"Introduce los kilos\"))\n",
    "\n",
    "if(userF in frutas):\n",
    "    final = int(frutas[userF])\n",
    "    print(final*kilos)\n",
    "else:\n",
    "    print(\"No esta esa fruta\")"
   ]
  },
  {
   "cell_type": "markdown",
   "metadata": {},
   "source": [
    "Escribir un programa que guarde en una variable el diccionario {'Euro':'€', 'Dollar':'$', 'Yen':'¥'}, pregunte al usuario por una divisa y muestre su símbolo o un mensaje de aviso si la divisa no está en el diccionario."
   ]
  },
  {
   "cell_type": "code",
   "execution_count": 7,
   "metadata": {},
   "outputs": [
    {
     "name": "stdout",
     "output_type": "stream",
     "text": [
      "Esa divisa no está\n"
     ]
    }
   ],
   "source": [
    "divisa = {\"Euro\":\"€\",\"Dollar\":\"$\",'Yen':'¥'}\n",
    "user = input(\"Introduce una divisa\")\n",
    "if(user in divisa):\n",
    "    print(divisa[user])\n",
    "else:\n",
    "    print(\"Esa divisa no está\")"
   ]
  },
  {
   "cell_type": "markdown",
   "metadata": {},
   "source": [
    "Escribir un programa que pregunte una fecha en formato dd/mm/aaaa y muestre por pantalla la misma fecha en formato dd de <mes> de aaaa donde <mes> es el nombre del mes."
   ]
  },
  {
   "cell_type": "code",
   "execution_count": 11,
   "metadata": {},
   "outputs": [
    {
     "name": "stdout",
     "output_type": "stream",
     "text": [
      "12 Diciembre 2012\n"
     ]
    }
   ],
   "source": [
    "meses = {\"1\":\"Enero\",\"2\":\"Febrero\",\"3\":\"Marzo\",\"4\":\"Abril\",\"5\":\"Mayo\",\"6\":\"Junio\",\"7\":\"Julio\",\"8\":\"Agosto\",\"9\":\"Septiembre\",\"10\":\"Octubre\",\"11\":\"Noviembre\",\"12\":\"Diciembre\"}\n",
    "fecha = input(\"Introduce la fecha\")\n",
    "fechaDividida = fecha.split(\"/\")\n",
    "if(fechaDividida[1] in meses):\n",
    "    print(fechaDividida[0]+\" \"+meses[fechaDividida[1]]+\" \"+fechaDividida[2])\n",
    "else:\n",
    "    print(\"Introduce una fecha correcta\")"
   ]
  },
  {
   "cell_type": "markdown",
   "metadata": {},
   "source": [
    "Escribir un programa que almacene el diccionario con los créditos de las asignaturas de un curso {'Matemáticas': 6, 'Física': 4, 'Química': 5} y después muestre por pantalla los créditos de cada asignatura en el formato <asignatura> tiene <créditos> créditos, donde <asignatura> es cada una de las asignaturas del curso, y <créditos> son sus créditos. Al final debe mostrar también el número total de créditos del curso"
   ]
  },
  {
   "cell_type": "code",
   "execution_count": 15,
   "metadata": {},
   "outputs": [
    {
     "name": "stdout",
     "output_type": "stream",
     "text": [
      "Notas Créditos\n",
      "Matemáticas 6\n",
      "Física 4\n",
      "Química 5\n",
      "Total créditos = 15\n"
     ]
    }
   ],
   "source": [
    "creditos = {\"Matemáticas\":6,\"Física\":4,\"Química\":5}\n",
    "total = 0\n",
    "print(\"Notas Créditos\")\n",
    "for x in creditos:\n",
    "    print(x+\" \"+str(creditos[x]))\n",
    "    total+=creditos[x]\n",
    "print(\"Total créditos = \"+str(total))"
   ]
  },
  {
   "cell_type": "markdown",
   "metadata": {},
   "source": [
    "Escribir un programa que cree un diccionario vacío y lo vaya llenado con información sobre una persona (por ejemplo nombre, edad, sexo, teléfono, correo electrónico, etc.) que se le pida al usuario. Cada vez que se añada un nuevo dato debe imprimirse el contenido del diccionario."
   ]
  },
  {
   "cell_type": "code",
   "execution_count": 16,
   "metadata": {},
   "outputs": [
    {
     "name": "stdout",
     "output_type": "stream",
     "text": [
      "{'Nombre': 'Cristian', 'Edad': '', 'Sexo': '', 'Teléfono': ''}\n",
      "{'Nombre': 'Cristian', 'Edad': '22', 'Sexo': '', 'Teléfono': ''}\n",
      "{'Nombre': 'Cristian', 'Edad': '22', 'Sexo': 'Mucho', 'Teléfono': ''}\n",
      "{'Nombre': 'Cristian', 'Edad': '22', 'Sexo': 'Mucho', 'Teléfono': '12355'}\n"
     ]
    }
   ],
   "source": [
    "info = {\"Nombre\":\"\",\"Edad\":\"\",\"Sexo\":\"\",\"Teléfono\":\"\"}\n",
    "info[\"Nombre\"] = input(\"Introduce tu nombre\")\n",
    "print(info)\n",
    "info[\"Edad\"] = input(\"Introduce tu edad\")\n",
    "print(info)\n",
    "info[\"Sexo\"] = input(\"Introduce tu sexo\")\n",
    "print(info)\n",
    "info[\"Teléfono\"] = input(\"Introduce tu teléfono\")\n",
    "print(info)"
   ]
  },
  {
   "cell_type": "markdown",
   "metadata": {},
   "source": [
    "Escribir un programa que cree un diccionario simulando una cesta de la compra. El programa debe preguntar el artículo y su precio y añadir el par al diccionario, hasta que el usuario decida terminar. Después se debe mostrar por pantalla la lista de la compra y el coste total, con el siguiente formato"
   ]
  },
  {
   "cell_type": "code",
   "execution_count": null,
   "metadata": {},
   "outputs": [],
   "source": []
  },
  {
   "cell_type": "markdown",
   "metadata": {},
   "source": [
    "Escribir un programa que cree un diccionario de traducción español-inglés. El usuario introducirá las palabras en español e inglés separadas por dos puntos, y cada par <palabra>:<traducción> separados por comas. El programa debe crear un diccionario con las palabras y sus traducciones. Después pedirá una frase en español y utilizará el diccionario para traducirla palabra a palabra. Si una palabra no está en el diccionario debe dejarla sin traducir."
   ]
  },
  {
   "cell_type": "code",
   "execution_count": null,
   "metadata": {},
   "outputs": [],
   "source": []
  },
  {
   "cell_type": "markdown",
   "metadata": {},
   "source": [
    "Escribir un programa que gestione las facturas pendientes de cobro de una empresa. Las facturas se almacenarán en un diccionario donde la clave de cada factura será el número de factura y el valor el coste de la factura. El programa debe preguntar al usuario si quiere añadir una nueva factura, pagar una existente o terminar. Si desea añadir una nueva factura se preguntará por el número de factura y su coste y se añadirá al diccionario. Si se desea pagar una factura se preguntará por el número de factura y se eliminará del diccionario. Después de cada operación el programa debe mostrar por pantalla la cantidad cobrada hasta el momento y la cantidad pendiente de cobro."
   ]
  },
  {
   "cell_type": "code",
   "execution_count": null,
   "metadata": {},
   "outputs": [],
   "source": []
  }
 ],
 "metadata": {
  "kernelspec": {
   "display_name": "Python 3",
   "language": "python",
   "name": "python3"
  },
  "language_info": {
   "codemirror_mode": {
    "name": "ipython",
    "version": 3
   },
   "file_extension": ".py",
   "mimetype": "text/x-python",
   "name": "python",
   "nbconvert_exporter": "python",
   "pygments_lexer": "ipython3",
   "version": "3.12.1"
  }
 },
 "nbformat": 4,
 "nbformat_minor": 2
}
