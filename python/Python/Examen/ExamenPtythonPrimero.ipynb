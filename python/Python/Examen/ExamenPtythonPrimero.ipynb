{
 "cells": [
  {
   "cell_type": "markdown",
   "metadata": {},
   "source": [
    "1. Validación de contraseña:\n",
    "Solicita al usuario que ingrese una contraseña. Imprime un mensaje indicando si la contraseña es válida o no. Una contraseña se considera válida si tiene al menos 8 caracteres y contiene al menos una letra minúscula, una letra mayúscula, un número y un carácter especial (!,@,#,$,%,^,&,*,(,),_,+,{,},:,<,>,?).\n",
    "- Letras a tener en cuenta: \"A\",\"B\",\"C\",\"D\",\"E\",\"F\",\"G\",\"H\",\"I\",\"J\",\"K\",\"L\",\"M\",\"N\",\"Ñ\",\"O\",\"P\",\"Q\",\"R\",\"S\",\"T\",\"U\",\"V\",\"W\",\"X\",\"Y\",\"Z\""
   ]
  },
  {
   "cell_type": "code",
   "execution_count": 2,
   "metadata": {},
   "outputs": [
    {
     "name": "stdout",
     "output_type": "stream",
     "text": [
      "Contraseña válida\n"
     ]
    }
   ],
   "source": [
    "contrasenya = str(input(\"Introduce la contraseña\"))\n",
    "numeros = \"0123456789\"\n",
    "especialChar = \"!@#$%^&*,:><?\"\n",
    "\n",
    "if len(contrasenya) < 8:\n",
    "    print(\"La contraseña debe tener al menos 8 caracteres\")\n",
    "else:\n",
    "    contrasenyaM = contrasenya.upper()\n",
    "    contrasenyaMin = contrasenya.lower()\n",
    "    if contrasenya == contrasenyaM or contrasenya == contrasenyaMin:\n",
    "        print(\"La contraseña debe tener mayúsculas y minusculas\")\n",
    "    else:\n",
    "        tieneChar = False\n",
    "        for x in especialChar:\n",
    "            for i in contrasenya:\n",
    "                if x == i:\n",
    "                    tieneChar = True\n",
    "        if not tieneChar:\n",
    "            print(\"No tiene caracteres especiales\")\n",
    "        else:\n",
    "            tieneNum = False\n",
    "            for x in numeros:\n",
    "                for i in contrasenya:\n",
    "                    if x == i:\n",
    "                        tieneNum = True\n",
    "            if not tieneNum:\n",
    "                print(\"No tiene caracteres especiales\")\n",
    "            else:\n",
    "                print(\"Contraseña válida\")"
   ]
  },
  {
   "cell_type": "markdown",
   "metadata": {},
   "source": [
    "2. Cálculo de factorial:\n",
    "Solicita al usuario que ingrese un número entero no negativo. Calcula y muestra el factorial de ese número. El factorial de un número n se define como el producto de todos los números enteros positivos desde 1 hasta n."
   ]
  },
  {
   "cell_type": "code",
   "execution_count": 6,
   "metadata": {},
   "outputs": [
    {
     "name": "stdout",
     "output_type": "stream",
     "text": [
      "El factorial de 5 es: 120\n"
     ]
    }
   ],
   "source": [
    "num = int(input(\"Introduce un número entero no negativo.\"))\n",
    "factorial = 0\n",
    "if num<=1:\n",
    "    print(\"No es un número válido\")\n",
    "else:\n",
    "    print(\"El factorial de\",num,\"es: \",end=\"\")\n",
    "    factorial = num*(num-1)\n",
    "    num -=2\n",
    "    while num != 1:\n",
    "        factorial *= num\n",
    "        num -= 1\n",
    "print(factorial)"
   ]
  },
  {
   "cell_type": "markdown",
   "metadata": {},
   "source": [
    "3. Juego de adivinar un número:\n",
    "Genera aleatoriamente un número entero entre 1 y 100. Pide al usuario que adivine el número. Si el número ingresado es menor que el número generado, muestra \"Demasiado bajo\" y pide que introduzcas otro número para probar de nuevo. Si es mayor, muestra \"Demasiado alto\" y pide que introduzcas otro número para probar de nuevo. Si es correcto, muestra \"¡Felicidades! Has adivinado el número en X intentos\", donde X es el número de intentos realizados.\n",
    "-Para generar el número de manera aleatoria, puedes utilizar la siguiente función:"
   ]
  },
  {
   "cell_type": "markdown",
   "metadata": {},
   "source": [
    "import random"
   ]
  },
  {
   "cell_type": "markdown",
   "metadata": {},
   "source": [
    "numero_secreto = random.randint(1, 100) "
   ]
  },
  {
   "cell_type": "code",
   "execution_count": 9,
   "metadata": {},
   "outputs": [
    {
     "name": "stdout",
     "output_type": "stream",
     "text": [
      "Prueba número 19\n",
      "Demasiado bajo, intentalo de nuevo\n",
      "Demasiado bajo, intentalo de nuevo\n",
      "Demasiado bajo, intentalo de nuevo\n",
      "Has adivinado el número en 4 intentos\n"
     ]
    }
   ],
   "source": [
    "import random\n",
    "numero_secreto = random.randint(1,100)\n",
    "contadorIntentos = 1\n",
    "print(\"Prueba número\",numero_secreto)\n",
    "adivina = int(input(\"Introduce un número para adivinar\"))\n",
    "while adivina!=numero_secreto:\n",
    "    if adivina>numero_secreto:\n",
    "        print(\"Demasiado alto, intentalo de nuevo\")\n",
    "        adivina = int(input(\"Introduce un número para adivinar\"))\n",
    "    if adivina< numero_secreto:\n",
    "        print(\"Demasiado bajo, intentalo de nuevo\")\n",
    "        adivina = int(input(\"Introduce un número para adivinar\"))\n",
    "    contadorIntentos+=1\n",
    "print(\"Has adivinado el número en\",contadorIntentos,\"intentos\")"
   ]
  },
  {
   "cell_type": "markdown",
   "metadata": {},
   "source": [
    "4. Cálculo del área de figuras geométricas:\n",
    "Solicita al usuario que elija entre calcular el área de un círculo, un rectángulo o un triángulo. Si elige el círculo, solicita el radio y muestra el área (pi * r2), donde pi=3,1416 y r2 es el radio introducido elevado al cuadrado. Si elige el rectángulo, solicita la base y la altura y muestra el área (base * altura) y si elige el triángulo, solicita la base y la altura y muestra el área ((base * altura)/2).\n",
    "El programa seguirá pidiendo al usuario que elija una opción hasta que este introduzca Enter (\"\")"
   ]
  },
  {
   "cell_type": "code",
   "execution_count": 4,
   "metadata": {},
   "outputs": [
    {
     "name": "stdout",
     "output_type": "stream",
     "text": [
      "Para salir del programa pulsa un Enter sin introducir nada\n",
      "El área del rectángulo es: 25\n",
      "El área del triángulo es: 12.5\n",
      "Saliendo del programa\n"
     ]
    }
   ],
   "source": [
    "print(\"Para salir del programa pulsa un Enter sin introducir nada\")\n",
    "eleccion = \"a\"\n",
    "while eleccion!=\"\":\n",
    "    eleccion = input(\"Introduce que accion quieres realizar: 1 área del círulo, 2 área del rectángulo o 3 área del triángulo\")\n",
    "    if eleccion==\"1\":\n",
    "        radio = float(input(\"Introduce el rádio\"))\n",
    "        print(\"El área del círculo es:\",(3.1416*(radio*radio)))\n",
    "    elif eleccion == \"2\":\n",
    "        base = float(input(\"Introduce la base\"))\n",
    "        altura = float(input(\"Introduce la altura\"))\n",
    "        print(\"El área del rectángulo es:\",(base*altura))\n",
    "    elif eleccion == \"3\":\n",
    "        base = float(input(\"Introduce la base\"))\n",
    "        altura = float(input(\"Introduce la altura\"))\n",
    "        print(\"El área del triángulo es:\",((base*altura)/2))\n",
    "    elif eleccion==\"\":\n",
    "        print(\"Saliendo del programa\")\n",
    "    else:\n",
    "        print(\"Intentalo de nuevo, no es un valor válido el introducido\")"
   ]
  },
  {
   "cell_type": "markdown",
   "metadata": {},
   "source": [
    "5. Contador de palabras en un texto:\n",
    "Solicita al usuario que ingrese un texto. Calcula y muestra el número de palabras DISTINTAS en el texto, así como también la frecuencia de cada palabra (es decir, cuántas veces aparece cada palabra en el texto). Ignora la distinción entre mayúsculas y minúsculas."
   ]
  },
  {
   "cell_type": "code",
   "execution_count": 38,
   "metadata": {},
   "outputs": [
    {
     "name": "stdout",
     "output_type": "stream",
     "text": [
      "Hay 9 palabrs diferentes\n",
      "La palabra hola aparece 1 veces en la frase\n",
      "La palabra buenos aparece 1 veces en la frase\n",
      "La palabra dias aparece 1 veces en la frase\n",
      "La palabra esta aparece 2 veces en la frase\n",
      "La palabra es aparece 2 veces en la frase\n",
      "La palabra mi aparece 2 veces en la frase\n",
      "La palabra frase aparece 1 veces en la frase\n",
      "La palabra y aparece 1 veces en la frase\n",
      "La palabra respuesta aparece 1 veces en la frase\n"
     ]
    }
   ],
   "source": [
    "palabras = {}\n",
    "texto = input(\"Introduce un texto para contar las palabras\")\n",
    "lista = texto.lower().split(\" \")\n",
    "for x in lista:\n",
    "    if x in palabras:\n",
    "        palabras[x]+=1\n",
    "    else:\n",
    "        palabras[x]=1\n",
    "print(\"Hay\",len(set(lista)),\"palabras diferentes\") \n",
    "for x,y in palabras.items():\n",
    "    print(\"La palabra\",x,\"aparece\",y,\"veces en la frase\")"
   ]
  }
 ],
 "metadata": {
  "kernelspec": {
   "display_name": "Python 3",
   "language": "python",
   "name": "python3"
  },
  "language_info": {
   "codemirror_mode": {
    "name": "ipython",
    "version": 3
   },
   "file_extension": ".py",
   "mimetype": "text/x-python",
   "name": "python",
   "nbconvert_exporter": "python",
   "pygments_lexer": "ipython3",
   "version": "3.12.1"
  }
 },
 "nbformat": 4,
 "nbformat_minor": 2
}
