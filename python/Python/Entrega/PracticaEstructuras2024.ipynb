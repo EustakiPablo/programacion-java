{
 "cells": [
  {
   "cell_type": "markdown",
   "metadata": {},
   "source": [
    "1. Dada una tupla y un elemento, muestra una lista de todos los índices donde aparece ese elemento en la tupla"
   ]
  },
  {
   "cell_type": "code",
   "execution_count": 2,
   "metadata": {},
   "outputs": [
    {
     "name": "stdout",
     "output_type": "stream",
     "text": [
      "1\n",
      "3\n",
      "4\n"
     ]
    }
   ],
   "source": [
    "mytuple = (\"apple\", \"banana\", \"cherry\",\"banana\",\"banana\")\n",
    "elemento = input(\"Introduce lo que buscas\")\n",
    "indices = []\n",
    "contador = 0\n",
    "#for x in mytuple:\n",
    "#    if (x == elemento):\n",
    "#        print(contador)\n",
    "#    contador+=1\n",
    "for i,elem in enumerate(mytuple):\n",
    "    if (i==elemento):\n",
    "        indices.append(i)\n",
    "print(indices)"
   ]
  },
  {
   "cell_type": "markdown",
   "metadata": {},
   "source": [
    "2. Suma todos los elementos de una tupla"
   ]
  },
  {
   "cell_type": "code",
   "execution_count": 3,
   "metadata": {},
   "outputs": [
    {
     "name": "stdout",
     "output_type": "stream",
     "text": [
      "31\n"
     ]
    }
   ],
   "source": [
    "mytuple = (1,2,1,3,4,5,6,7,2)\n",
    "final = 0\n",
    "for x in mytuple:\n",
    "    final+=x\n",
    "print(final)"
   ]
  },
  {
   "cell_type": "markdown",
   "metadata": {},
   "source": [
    "3.Eliminar duplicados de una lista utilizando bucles y/o condicionales"
   ]
  },
  {
   "cell_type": "code",
   "execution_count": 3,
   "metadata": {},
   "outputs": [
    {
     "name": "stdout",
     "output_type": "stream",
     "text": [
      "['apple', 'banana', 'cherry']\n"
     ]
    }
   ],
   "source": [
    "lista = [\"apple\", \"banana\", \"cherry\",\"banana\",\"banana\",\"cherry\",\"cherry\"]\n",
    "lista_nodupl = []\n",
    "for x in lista:\n",
    "    if x not in lista_nodupl:\n",
    "        lista_nodupl.append(x)\n",
    "print(lista_nodupl)"
   ]
  },
  {
   "cell_type": "markdown",
   "metadata": {},
   "source": [
    "4. La moda es el elemento que más se repite entre una serie de elementos. Dada una lista, devuelve la moda de sus elementos y cuántas veces se repite"
   ]
  },
  {
   "cell_type": "code",
   "execution_count": 5,
   "metadata": {},
   "outputs": [
    {
     "name": "stdout",
     "output_type": "stream",
     "text": [
      "2 6\n"
     ]
    }
   ],
   "source": [
    "lista = [1,1,1,2,2,2,2,2,2,3,5,6,4,334,87,6,4,34,3,46]\n",
    "mayor = 0\n",
    "contadorAntiguo = 0\n",
    "for x in lista:\n",
    "    contador = 0\n",
    "    for i in lista:\n",
    "        if i == x:\n",
    "            contador+=1\n",
    "    if contador>contadorAntiguo:\n",
    "        contadorAntiguo=contador\n",
    "        mayor = x\n",
    "print(mayor, contadorAntiguo)"
   ]
  },
  {
   "cell_type": "code",
   "execution_count": 4,
   "metadata": {},
   "outputs": [
    {
     "name": "stdout",
     "output_type": "stream",
     "text": [
      "{1: 3, 2: 6, 3: 2, 5: 1, 6: 2, 4: 2, 334: 1, 87: 1, 34: 1, 46: 1}\n"
     ]
    }
   ],
   "source": [
    "lista = [1,1,1,2,2,2,2,2,2,3,5,6,4,334,87,6,4,34,3,46]\n",
    "D={}\n",
    "frecuencia = 0\n",
    "for elem in lista:\n",
    "    if elem in D:\n",
    "        D[elem]+=1\n",
    "    else:\n",
    "        D[elem] = 1\n",
    "print(D)\n",
    "for elem,frec in D.items():\n",
    "    if frec > frecuencia:\n",
    "        frecuencia=frec\n",
    "        moda = elem\n",
    "print(moda,frec)"
   ]
  },
  {
   "cell_type": "code",
   "execution_count": null,
   "metadata": {},
   "outputs": [],
   "source": [
    "lista = [1,1,1,2,2,2,2,2,2,3,5,6,4,334,87,6,4,34,3,46]\n",
    "rep=[]\n",
    "frecuencia = 0\n",
    "for elem in lista:\n",
    "    rep.append(elem)\n",
    "    for elem in lista:\n",
    "        if elem in rep:\n",
    "            rep.append(elem)\n",
    "    if (len(rep)>frecuencia):\n",
    "        frecuencia=len(rep)-1\n",
    "        moda = rep[0]\n",
    "    rep = []"
   ]
  },
  {
   "cell_type": "markdown",
   "metadata": {},
   "source": [
    "5. Calcula la intersección de dos conjuntos. Luego calcula su diferencia simétrica. Realiza la unión de estos conjuntos resultantes. ¿Qué conjunto obtienes? Muestra por pantalla la frase: El conjunto \"conjunto_resultado\" equivale a...\" donde ... es la respuesta a la pregunta qué conjunto obtienes"
   ]
  },
  {
   "cell_type": "code",
   "execution_count": null,
   "metadata": {},
   "outputs": [],
   "source": [
    "set1 = {1,2,3,4,1,2,3,5,67,8}\n",
    "set2 = {8456,3567,1236,6367,1,2,63456,7467,67,847}\n",
    "print(\"Interseccion:\",set1.intersection(set2))\n",
    "print(\"Diferencia:\",set1.symmetric_difference(set2))\n",
    "print(\"Union:\",set1.union(set2))\n"
   ]
  },
  {
   "cell_type": "markdown",
   "metadata": {},
   "source": [
    "6. Escribe un programa que solicite al usuario ingresar una palabra y verifique si es un palíndromo (es decir, si se lee igual de izquierda a derecha que de derecha a izquierda). El programa debe imprimir un mensaje indicando si la palabra es un palíndromo o no."
   ]
  },
  {
   "cell_type": "code",
   "execution_count": 60,
   "metadata": {},
   "outputs": [
    {
     "name": "stdout",
     "output_type": "stream",
     "text": [
      "No es palindromo\n"
     ]
    }
   ],
   "source": [
    "palabra = input(\"Introduce una palabra\")\n",
    "contador = len(palabra)-1\n",
    "palindromo = True\n",
    "for x in palabra:\n",
    "    if x != palabra[contador]:\n",
    "        palindromo=False\n",
    "    contador-=1\n",
    "if(palindromo):\n",
    "    print(\"Es palindromo\")\n",
    "else:\n",
    "    print(\"No es palindromo\")"
   ]
  },
  {
   "cell_type": "code",
   "execution_count": null,
   "metadata": {},
   "outputs": [],
   "source": [
    "palabra = input(\"Introduce una palabra\")\n",
    "if palabra == palabra[::-1]:\n",
    "    print(\"Es un palindromo\")\n",
    "else:\n",
    "    print(\"No es un palindromo\")"
   ]
  },
  {
   "cell_type": "markdown",
   "metadata": {},
   "source": [
    "7. Escribe un programa que solicite al usuario ingresar un número entero positivo y una lista (de la misma longitud que el número introducido) y luego imprima un patrón como el siguiente ejemplo para ese número:\n",
    "num=4\n",
    "L=[1,5,2,3]\n",
    "Salida:\n",
    "1\n",
    "1 5\n",
    "1 5 2\n",
    "1 5 2 3\n"
   ]
  },
  {
   "cell_type": "code",
   "execution_count": 7,
   "metadata": {},
   "outputs": [
    {
     "name": "stderr",
     "output_type": "stream",
     "text": [
      "\n",
      "KeyboardInterrupt\n",
      "\n"
     ]
    }
   ],
   "source": [
    "entero = input(\"Escribe un número entero\")\n",
    "contador = 0\n",
    "lista = []\n",
    "while(contador<int(entero)):\n",
    "    lista.append(input(\"Introduce un valor\"))\n",
    "    contador+=1\n",
    "x=0\n",
    "while (x < len(lista)):\n",
    "    final = str()\n",
    "    y=0\n",
    "    while(y<=x):\n",
    "        final+=lista[y]\n",
    "        y+=1\n",
    "    print(final)\n",
    "    x+=1"
   ]
  },
  {
   "cell_type": "markdown",
   "metadata": {},
   "source": [
    "8.\tEscribe un programa que dado un número (entre 1 y 200) ingresado por el usuario genere una lista que contenga los números primos desde el 1 hasta el último primo menor o igual que el introducido"
   ]
  },
  {
   "cell_type": "code",
   "execution_count": 9,
   "metadata": {},
   "outputs": [
    {
     "name": "stdout",
     "output_type": "stream",
     "text": [
      "[1, 2, 3, 5, 7, 11, 13, 17, 19, 23, 29, 31, 37, 41, 43, 47, 53, 59, 61, 67, 71, 73, 79, 83, 89, 97, 101, 103, 107, 109, 113, 127, 131, 137, 139, 149, 151, 157, 163, 167, 173, 179, 181, 191, 193, 197, 199]\n"
     ]
    }
   ],
   "source": [
    "num=1\n",
    "numUser = int(input(\"Introduce un número del 1 al 200\"))\n",
    "lista = []\n",
    "x=0\n",
    "while(num<=numUser):\n",
    "    contDiv=1\n",
    "    contTry=0\n",
    "    while(contDiv<=num):\n",
    "        if num%contDiv==0:\n",
    "            contTry+=1\n",
    "        contDiv+=1\n",
    "    if contTry<=2:\n",
    "        lista.append(num)\n",
    "        x+=1\n",
    "    num+=1\n",
    "print(lista)"
   ]
  },
  {
   "cell_type": "markdown",
   "metadata": {},
   "source": [
    "9. Escribe un programa que solicite al usuario ingresar una cadena de texto y luego cuente la cantidad de veces que aparece cada caracter en la cadena. El programa debe imprimir un diccionario donde las claves sean los caracteres encontrados y los valores sean la cantidad de veces que cada caracter aparece en la cadena."
   ]
  },
  {
   "cell_type": "code",
   "execution_count": 31,
   "metadata": {},
   "outputs": [
    {
     "name": "stdout",
     "output_type": "stream",
     "text": [
      "{'h': 1, 'o': 1, 'l': 1, 'a': 3}\n"
     ]
    }
   ],
   "source": [
    "Dic={}\n",
    "texto = input(\"Introduce una palabra\")\n",
    "for x in texto:\n",
    "    esta = False\n",
    "    for i in Dic:\n",
    "        if x == i:\n",
    "            esta = True\n",
    "        \n",
    "    if esta == False: \n",
    "        Dic.update({x:\"\"})\n",
    "contador = 0\n",
    "for x in Dic:\n",
    "    contador=0\n",
    "    for y in texto:\n",
    "        if y == x:\n",
    "            contador+=1\n",
    "    Dic[x]=contador\n",
    "\n",
    "print(Dic)"
   ]
  },
  {
   "cell_type": "markdown",
   "metadata": {},
   "source": [
    "10. Escribe un programa que permita a un gerente de tienda gestionar el inventario de productos. El programa debe permitir al usuario agregar nuevos productos al inventario, actualizar la cantidad de existencias de un producto y consultar la cantidad de existencias de un producto específico, así como mostrar el inventario completo. El programa debe utilizar un diccionario donde las claves sean los nombres de los productos y los valores sean las cantidades de existencias"
   ]
  },
  {
   "cell_type": "code",
   "execution_count": 32,
   "metadata": {},
   "outputs": [
    {
     "name": "stdout",
     "output_type": "stream",
     "text": [
      "4\n",
      "2000\n",
      "No es una opción válida, para salir use la opción 4\n"
     ]
    }
   ],
   "source": [
    "salir = True\n",
    "Dic = {}\n",
    "while (salir):\n",
    "    eleccion = 0\n",
    "    eleccion = int(input(\"Introduce una opción\\n1- Añadir producto\\n2- Actualizar existencias\\n3- Consultar cantidad de producto\\n 4 salir\"))\n",
    "    if(eleccion==1):\n",
    "        calve = input(\"Introduce le nombre del producto\")\n",
    "        valor = int(input(\"Introduce la cantidad del producto\"))\n",
    "        Dic.update({calve:valor})\n",
    "    elif(eleccion==2):\n",
    "        calve = input(\"Indica el producto que quieres actualizar\")\n",
    "        Dic[calve] = int(input(\"Introduce la cantidad nueva\"))\n",
    "    elif(eleccion==3):\n",
    "        clave = input(\"Introduce el producto que desea consultar\")\n",
    "        print(Dic[clave])\n",
    "    elif(eleccion==4):\n",
    "        salir = False\n",
    "    elif(eleccion>4):\n",
    "        print(\"No es una opción válida, para salir use la opción 4\")"
   ]
  }
 ],
 "metadata": {
  "kernelspec": {
   "display_name": "Python 3",
   "language": "python",
   "name": "python3"
  },
  "language_info": {
   "codemirror_mode": {
    "name": "ipython",
    "version": 3
   },
   "file_extension": ".py",
   "mimetype": "text/x-python",
   "name": "python",
   "nbconvert_exporter": "python",
   "pygments_lexer": "ipython3",
   "version": "3.12.1"
  }
 },
 "nbformat": 4,
 "nbformat_minor": 2
}
